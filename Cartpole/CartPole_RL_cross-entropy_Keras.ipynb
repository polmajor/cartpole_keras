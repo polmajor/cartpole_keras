{
 "cells": [
  {
   "cell_type": "code",
   "execution_count": 1,
   "metadata": {},
   "outputs": [
    {
     "name": "stderr",
     "output_type": "stream",
     "text": [
      "c:\\python\\lib\\site-packages\\h5py\\__init__.py:36: FutureWarning: Conversion of the second argument of issubdtype from `float` to `np.floating` is deprecated. In future, it will be treated as `np.float64 == np.dtype(float).type`.\n",
      "  from ._conv import register_converters as _register_converters\n",
      "Using TensorFlow backend.\n"
     ]
    },
    {
     "name": "stdout",
     "output_type": "stream",
     "text": [
      "There are 2 actions available. (LEFT/RIGHT)\n",
      "The model has a single hidden layer of size: 128\n"
     ]
    }
   ],
   "source": [
    "#Imports\n",
    "import gym\n",
    "import numpy as np\n",
    "import time\n",
    "from keras.models import Sequential\n",
    "from keras.layers import Dense\n",
    "from keras import optimizers\n",
    "\n",
    "\n",
    "#Environment\n",
    "env = gym.make(\"CartPole-v0\")\n",
    "#env = gym.wrappers.Monitor(env, directory=\"mon\", force=True)\n",
    "obs_size = env.observation_space.shape\n",
    "n_actions = env.action_space.n\n",
    "\n",
    "#Simple NN model\n",
    "model = Sequential()\n",
    "hidden = 128\n",
    "\n",
    "model.add(Dense(hidden, activation='relu', input_shape=(obs_size)))\n",
    "model.add(Dense(n_actions, activation='softmax'))\n",
    "\n",
    "#Initial observation\n",
    "'''obs = env.reset()\n",
    "print(\"The initial observation is: \", obs)'''\n",
    "print(\"There are\", n_actions,\"actions available. (LEFT/RIGHT)\")\n",
    "print(\"The model has a single hidden layer of size:\", hidden)"
   ]
  },
  {
   "cell_type": "code",
   "execution_count": 2,
   "metadata": {},
   "outputs": [
    {
     "name": "stdout",
     "output_type": "stream",
     "text": [
      "Model compiled with adam optimitzer and categorical crossentropy loss.\n"
     ]
    }
   ],
   "source": [
    "#Compile the model\n",
    "adam = optimizers.adam(lr=0.01)\n",
    "model.compile(optimizer=adam, loss='categorical_crossentropy', metrics=['accuracy'])\n",
    "print(\"Model compiled with adam optimitzer and categorical crossentropy loss.\")"
   ]
  },
  {
   "cell_type": "code",
   "execution_count": 3,
   "metadata": {},
   "outputs": [],
   "source": [
    "#Play one episode\n",
    "def play(env, render=False, monitor=False):\n",
    "    episode_reward = 0.0\n",
    "    episode_obs = []\n",
    "    episode_actions = []\n",
    "    if monitor:\n",
    "        env = gym.wrappers.Monitor(env, directory='saves_' + str(time.time()) + '/')\n",
    "    obs = env.reset()\n",
    "    while True:\n",
    "        #Take one step\n",
    "        if render:\n",
    "            env.render()\n",
    "        actions = model.predict(obs.reshape(1,-1)).reshape(-1)\n",
    "        \n",
    "        #Pick a random action based on probability\n",
    "        action = np.random.choice(len(actions), p=actions)\n",
    "        next_obs, reward, is_done, _ = env.step(action)\n",
    "\n",
    "        #Sum the rewards\n",
    "        episode_reward += reward\n",
    "\n",
    "        #Record the step\n",
    "        episode_obs.append(obs)\n",
    "        if action == 0:\n",
    "            episode_actions.append([1,0])\n",
    "        if action == 1:\n",
    "            episode_actions.append([0,1])\n",
    "\n",
    "        #Check if game over\n",
    "        if is_done:\n",
    "            env.close()\n",
    "            return episode_reward, episode_obs, episode_actions \n",
    "        \n",
    "        obs = next_obs"
   ]
  },
  {
   "cell_type": "code",
   "execution_count": 4,
   "metadata": {},
   "outputs": [],
   "source": [
    "def play_episodes(env, n):\n",
    "    episodes = {\"Rewards\":[], \"Obs\":[], \"Actions\":[]}\n",
    "    for x in range(n):\n",
    "        r, s, a = play(env)\n",
    "        episodes[\"Rewards\"].append(r)\n",
    "        episodes[\"Obs\"].append(s)\n",
    "        episodes[\"Actions\"].append(a)\n",
    "        \n",
    "    return episodes"
   ]
  },
  {
   "cell_type": "code",
   "execution_count": 5,
   "metadata": {},
   "outputs": [],
   "source": [
    "def get_best_episode(env, n):\n",
    "    t_obs = []\n",
    "    t_act = []\n",
    "    #Play n games\n",
    "    episodes = play_episodes(env, n)\n",
    "    rewards = episodes[\"Rewards\"]\n",
    "    bound = np.percentile(rewards, 75)\n",
    "    i = 0\n",
    "    for e in rewards:\n",
    "        if e < bound:\n",
    "            i+=1\n",
    "            continue\n",
    "        t_obs.extend(episodes[\"Obs\"][i])\n",
    "        t_act.extend(episodes[\"Actions\"][i])\n",
    "        i+=1\n",
    "    r = np.mean(rewards)\n",
    "    print(\"Average reward =\",np.mean(rewards)) \n",
    "    return t_obs, t_act, r"
   ]
  },
  {
   "cell_type": "code",
   "execution_count": 6,
   "metadata": {},
   "outputs": [],
   "source": [
    "def train_nn(env, model, n, history):\n",
    "    x,y,r = get_best_episode(env, n)\n",
    "    \n",
    "    history.append(r)\n",
    "    #Reshape to train\n",
    "    x = np.array(x).reshape(len(x), 4)\n",
    "    y = np.array(y).reshape(len(y), 2)\n",
    "    model.fit(x,y, epochs=1, verbose=2, batch_size=32)\n",
    "    "
   ]
  },
  {
   "cell_type": "code",
   "execution_count": 7,
   "metadata": {
    "scrolled": true
   },
   "outputs": [
    {
     "name": "stdout",
     "output_type": "stream",
     "text": [
      "Average reward = 28.875\n",
      "Epoch 1/1\n",
      " - 0s - loss: 0.6954 - acc: 0.5261\n",
      "Average reward = 28.3125\n",
      "Epoch 1/1\n",
      " - 0s - loss: 0.6796 - acc: 0.5990\n",
      "Average reward = 38.875\n",
      "Epoch 1/1\n",
      " - 0s - loss: 0.6676 - acc: 0.6194\n",
      "Average reward = 33.625\n",
      "Epoch 1/1\n",
      " - 0s - loss: 0.6584 - acc: 0.6194\n",
      "Average reward = 57.0\n",
      "Epoch 1/1\n",
      " - 0s - loss: 0.6359 - acc: 0.6408\n",
      "Average reward = 62.3125\n",
      "Epoch 1/1\n",
      " - 0s - loss: 0.6367 - acc: 0.6545\n",
      "Average reward = 51.875\n",
      "Epoch 1/1\n",
      " - 0s - loss: 0.6362 - acc: 0.6361\n",
      "Average reward = 77.25\n",
      "Epoch 1/1\n",
      " - 0s - loss: 0.6057 - acc: 0.6819\n",
      "Average reward = 73.3125\n",
      "Epoch 1/1\n",
      " - 0s - loss: 0.5849 - acc: 0.6990\n",
      "Average reward = 124.25\n",
      "Epoch 1/1\n",
      " - 0s - loss: 0.5881 - acc: 0.7117\n",
      "Average reward = 134.4375\n",
      "Epoch 1/1\n",
      " - 0s - loss: 0.5496 - acc: 0.7240\n",
      "Average reward = 142.0625\n",
      "Epoch 1/1\n",
      " - 0s - loss: 0.5567 - acc: 0.7180\n",
      "Average reward = 116.8125\n",
      "Epoch 1/1\n",
      " - 0s - loss: 0.5452 - acc: 0.7158\n",
      "Average reward = 132.125\n",
      "Epoch 1/1\n",
      " - 0s - loss: 0.5435 - acc: 0.7347\n",
      "Average reward = 177.8125\n",
      "Epoch 1/1\n",
      " - 0s - loss: 0.5359 - acc: 0.7329\n",
      "Average reward = 166.1875\n",
      "Epoch 1/1\n",
      " - 0s - loss: 0.5375 - acc: 0.7286\n",
      "Average reward = 191.875\n",
      "Epoch 1/1\n",
      " - 0s - loss: 0.5458 - acc: 0.7236\n",
      "Average reward = 198.4375\n",
      "Epoch 1/1\n",
      " - 0s - loss: 0.5619 - acc: 0.7057\n",
      "Average reward = 184.5625\n",
      "Epoch 1/1\n",
      " - 0s - loss: 0.5692 - acc: 0.7031\n",
      "Average reward = 184.0\n",
      "Epoch 1/1\n",
      " - 0s - loss: 0.5783 - acc: 0.7045\n",
      "Average reward = 175.9375\n",
      "Epoch 1/1\n",
      " - 0s - loss: 0.5777 - acc: 0.6950\n",
      "Average reward = 187.8125\n",
      "Epoch 1/1\n",
      " - 0s - loss: 0.5794 - acc: 0.6950\n",
      "Average reward = 185.75\n",
      "Epoch 1/1\n",
      " - 0s - loss: 0.5717 - acc: 0.7077\n",
      "Average reward = 199.0\n",
      "Epoch 1/1\n",
      " - 0s - loss: 0.5632 - acc: 0.7170\n",
      "Average reward = 200.0\n",
      "Epoch 1/1\n",
      " - 0s - loss: 0.5521 - acc: 0.7184\n",
      "Average reward = 200.0\n",
      "Epoch 1/1\n",
      " - 0s - loss: 0.5606 - acc: 0.7128\n",
      "Average reward = 194.75\n",
      "Epoch 1/1\n",
      " - 0s - loss: 0.5801 - acc: 0.6939\n",
      "Average reward = 189.5\n",
      "Epoch 1/1\n",
      " - 0s - loss: 0.5676 - acc: 0.7170\n",
      "Average reward = 187.0\n",
      "Epoch 1/1\n",
      " - 0s - loss: 0.5707 - acc: 0.7109\n",
      "Average reward = 189.375\n",
      "Epoch 1/1\n",
      " - 0s - loss: 0.5596 - acc: 0.7196\n"
     ]
    }
   ],
   "source": [
    "#Train the model for 30 epochs with 16 episodes each\n",
    "history = []\n",
    "epochs = 30\n",
    "for x in range(epochs):\n",
    "    #Uncomment to monitor\n",
    "    '''if (x == 1) or (x == 10) or (x == 29):\n",
    "        play(env, False, True)'''\n",
    "    train_nn(env, model, 16, history)    "
   ]
  },
  {
   "cell_type": "code",
   "execution_count": 8,
   "metadata": {},
   "outputs": [
    {
     "name": "stdout",
     "output_type": "stream",
     "text": [
      "Average rewards by epoch\n"
     ]
    },
    {
     "data": {
      "image/png": "[encoded data removed]",
      "text/plain": [
       "<matplotlib.figure.Figure at 0x44c51f98>"
      ]
     },
     "metadata": {},
     "output_type": "display_data"
    }
   ],
   "source": [
    "import pandas as pd\n",
    "%matplotlib inline\n",
    "pd.DataFrame(history).plot()\n",
    "print(\"Average rewards by epoch\")"
   ]
  },
  {
   "cell_type": "markdown",
   "metadata": {},
   "source": [
    "## Random agent"
   ]
  },
  {
   "cell_type": "code",
   "execution_count": 9,
   "metadata": {},
   "outputs": [
    {
     "data": {
      "text/html": [
       "<video controls>\n",
       " <source src=\"data:video/mp4;base64,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\" type=\"video/mp4\">\n",
       " Your browser does not support the video tag.\n",
       " </video>"
      ],
      "text/plain": [
       "<IPython.core.display.Video object>"
      ]
     },
     "execution_count": 9,
     "metadata": {},
     "output_type": "execute_result"
    }
   ],
   "source": [
    "from IPython.display import Video\n",
    "Video(\"./video/random_cart.mp4\", embed=True)"
   ]
  },
  {
   "cell_type": "markdown",
   "metadata": {},
   "source": [
    "## 10_epochs trained agent"
   ]
  },
  {
   "cell_type": "code",
   "execution_count": 10,
   "metadata": {},
   "outputs": [
    {
     "data": {
      "text/html": [
       "<video controls>\n",
       " <source src=\"data:video/mp4;base64,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\" type=\"video/mp4\">\n",
       " Your browser does not support the video tag.\n",
       " </video>"
      ],
      "text/plain": [
       "<IPython.core.display.Video object>"
      ]
     },
     "execution_count": 10,
     "metadata": {},
     "output_type": "execute_result"
    }
   ],
   "source": [
    "Video(\"./video/10_epochs_cart.mp4\", embed=True)"
   ]
  },
  {
   "cell_type": "markdown",
   "metadata": {},
   "source": [
    "## 30_epochs trained agent"
   ]
  },
  {
   "cell_type": "code",
   "execution_count": 11,
   "metadata": {},
   "outputs": [
    {
     "data": {
      "text/html": [
       "<video controls>\n",
       " <source src=\"data:video/mp4;base64,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\" type=\"video/mp4\">\n",
       " Your browser does not support the video tag.\n",
       " </video>"
      ],
      "text/plain": [
       "<IPython.core.display.Video object>"
      ]
     },
     "execution_count": 11,
     "metadata": {},
     "output_type": "execute_result"
    }
   ],
   "source": [
    "Video(\"./video/30_epochs_cart.mp4\", embed=True)"
   ]
  }
 ],
 "metadata": {
  "kernelspec": {
   "display_name": "Python 3",
   "language": "python",
   "name": "python3"
  },
  "language_info": {
   "codemirror_mode": {
    "name": "ipython",
    "version": 3
   },
   "file_extension": ".py",
   "mimetype": "text/x-python",
   "name": "python",
   "nbconvert_exporter": "python",
   "pygments_lexer": "ipython3",
   "version": "3.6.5"
  }
 },
 "nbformat": 4,
 "nbformat_minor": 2
}
